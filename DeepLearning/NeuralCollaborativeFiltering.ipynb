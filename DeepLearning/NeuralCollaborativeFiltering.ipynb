{
 "cells": [
  {
   "cell_type": "code",
   "execution_count": 1,
   "id": "6e5d8c3c",
   "metadata": {},
   "outputs": [
    {
     "name": "stdout",
     "output_type": "stream",
     "text": [
      "Requirement already satisfied: torch in /home/haphuthinh/anaconda3/envs/RecSys/lib/python3.6/site-packages (1.10.2)\n",
      "Requirement already satisfied: dataclasses in /home/haphuthinh/anaconda3/envs/RecSys/lib/python3.6/site-packages (from torch) (0.8)\n",
      "Requirement already satisfied: typing-extensions in /home/haphuthinh/anaconda3/envs/RecSys/lib/python3.6/site-packages (from torch) (4.1.1)\n",
      "Requirement already satisfied: LibRecommender in /home/haphuthinh/anaconda3/envs/RecSys/lib/python3.6/site-packages (1.5.1)\n"
     ]
    }
   ],
   "source": [
    "!pip install torch\n",
    "!pip install LibRecommender"
   ]
  },
  {
   "cell_type": "code",
   "execution_count": 2,
   "id": "bcdeedc9",
   "metadata": {},
   "outputs": [
    {
     "name": "stdout",
     "output_type": "stream",
     "text": [
      "WARNING:tensorflow:From /home/haphuthinh/anaconda3/envs/RecSys/lib/python3.6/site-packages/tensorflow/python/compat/v2_compat.py:96: disable_resource_variables (from tensorflow.python.ops.variable_scope) is deprecated and will be removed in a future version.\n",
      "Instructions for updating:\n",
      "non-resource variables are not supported in the long term\n"
     ]
    },
    {
     "name": "stderr",
     "output_type": "stream",
     "text": [
      "/home/haphuthinh/anaconda3/envs/RecSys/lib/python3.6/site-packages/tqdm/auto.py:22: TqdmWarning: IProgress not found. Please update jupyter and ipywidgets. See https://ipywidgets.readthedocs.io/en/stable/user_install.html\n",
      "  from .autonotebook import tqdm as notebook_tqdm\n",
      "/home/haphuthinh/anaconda3/envs/RecSys/lib/python3.6/site-packages/gensim/similarities/__init__.py:15: UserWarning: The gensim.similarities.levenshtein submodule is disabled, because the optional Levenshtein package <https://pypi.org/project/python-Levenshtein/> is unavailable. Install Levenhstein (e.g. `pip install python-Levenshtein`) to suppress this warning.\n",
      "  warnings.warn(msg)\n"
     ]
    }
   ],
   "source": [
    "import numpy as np\n",
    "import pandas as pd\n",
    "from libreco.data import random_split, DatasetPure\n",
    "from libreco.algorithms import NCF\n",
    "from libreco.evaluation import evaluate"
   ]
  },
  {
   "cell_type": "code",
   "execution_count": 3,
   "id": "e8db0523",
   "metadata": {},
   "outputs": [],
   "source": [
    "ratings = pd.read_csv(\"../ml-latest-small/ratings.csv\")\n",
    "ratings.columns = [\"user\", \"item\", \"label\", \"time\"]\n",
    "\n",
    "movies = pd.read_csv(\"../ml-latest-small/movies.csv\")\n",
    "movies.columns = [\"movieID\", \"Title\", \"Genres\"]"
   ]
  },
  {
   "cell_type": "code",
   "execution_count": 4,
   "id": "1c99772c",
   "metadata": {},
   "outputs": [],
   "source": [
    "training_set, evaluation_set, testing_set = random_split(ratings, multi_ratios=[0.8, 0.1, 0.1])"
   ]
  },
  {
   "cell_type": "code",
   "execution_count": 5,
   "id": "eebfd381",
   "metadata": {},
   "outputs": [],
   "source": [
    "# Convert training, evaluation, and test data into format required by LibRecommender (\"Pure\" collobarative filtering data)\n",
    "training_set, data_info = DatasetPure.build_trainset(training_set)\n",
    "evaluation_set = DatasetPure.build_evalset(evaluation_set)\n",
    "testing_set = DatasetPure.build_testset(testing_set)"
   ]
  },
  {
   "cell_type": "code",
   "execution_count": 6,
   "id": "aa05aae8",
   "metadata": {},
   "outputs": [],
   "source": [
    "ncf = NCF(\n",
    "    task=\"rating\",\n",
    "    data_info=data_info\n",
    ")\n",
    "\n",
    "#Defaults used for hyperparams, see https://librecommender.readthedocs.io/en/latest/api/algorithms/ncf.html"
   ]
  },
  {
   "cell_type": "code",
   "execution_count": 7,
   "id": "449a62f2",
   "metadata": {},
   "outputs": [
    {
     "name": "stdout",
     "output_type": "stream",
     "text": [
      "Training start time: \u001b[35m2024-12-11 15:28:51\u001b[0m\n"
     ]
    },
    {
     "name": "stderr",
     "output_type": "stream",
     "text": [
      "/home/haphuthinh/anaconda3/envs/RecSys/lib/python3.6/site-packages/tensorflow/python/keras/legacy_tf_layers/normalization.py:308: UserWarning: `tf.layers.batch_normalization` is deprecated and will be removed in a future version. Please use `tf.keras.layers.BatchNormalization` instead. In particular, `tf.control_dependencies(tf.GraphKeys.UPDATE_OPS)` should not be used (consult the `tf.keras.layers.BatchNormalization` documentation).\n",
      "  '`tf.layers.batch_normalization` is deprecated and '\n",
      "/home/haphuthinh/anaconda3/envs/RecSys/lib/python3.6/site-packages/tensorflow/python/keras/engine/base_layer_v1.py:1719: UserWarning: `layer.apply` is deprecated and will be removed in a future version. Please use `layer.__call__` method instead.\n",
      "  warnings.warn('`layer.apply` is deprecated and '\n",
      "train: 100%|██████████| 626/626 [00:01<00:00, 585.77it/s]\n"
     ]
    },
    {
     "name": "stdout",
     "output_type": "stream",
     "text": [
      "Epoch 1 elapsed: 1.071s\n",
      "\t \u001b[32mtrain_loss: 1.2045\u001b[0m\n"
     ]
    },
    {
     "name": "stderr",
     "output_type": "stream",
     "text": [
      "eval_pointwise: 100%|██████████| 2/2 [00:00<00:00, 55.72it/s]\n"
     ]
    },
    {
     "name": "stdout",
     "output_type": "stream",
     "text": [
      "\t eval rmse: 0.9185\n",
      "==============================\n"
     ]
    },
    {
     "name": "stderr",
     "output_type": "stream",
     "text": [
      "train: 100%|██████████| 626/626 [00:00<00:00, 880.47it/s]\n"
     ]
    },
    {
     "name": "stdout",
     "output_type": "stream",
     "text": [
      "Epoch 2 elapsed: 0.712s\n",
      "\t \u001b[32mtrain_loss: 0.7841\u001b[0m\n"
     ]
    },
    {
     "name": "stderr",
     "output_type": "stream",
     "text": [
      "eval_pointwise: 100%|██████████| 2/2 [00:00<00:00, 296.98it/s]\n"
     ]
    },
    {
     "name": "stdout",
     "output_type": "stream",
     "text": [
      "\t eval rmse: 0.9081\n",
      "==============================\n"
     ]
    },
    {
     "name": "stderr",
     "output_type": "stream",
     "text": [
      "train: 100%|██████████| 626/626 [00:00<00:00, 892.32it/s]\n"
     ]
    },
    {
     "name": "stdout",
     "output_type": "stream",
     "text": [
      "Epoch 3 elapsed: 0.703s\n",
      "\t \u001b[32mtrain_loss: 0.6982\u001b[0m\n"
     ]
    },
    {
     "name": "stderr",
     "output_type": "stream",
     "text": [
      "eval_pointwise: 100%|██████████| 2/2 [00:00<00:00, 163.65it/s]\n"
     ]
    },
    {
     "name": "stdout",
     "output_type": "stream",
     "text": [
      "\t eval rmse: 0.9101\n",
      "==============================\n"
     ]
    },
    {
     "name": "stderr",
     "output_type": "stream",
     "text": [
      "train: 100%|██████████| 626/626 [00:00<00:00, 856.55it/s]\n"
     ]
    },
    {
     "name": "stdout",
     "output_type": "stream",
     "text": [
      "Epoch 4 elapsed: 0.732s\n",
      "\t \u001b[32mtrain_loss: 0.6167\u001b[0m\n"
     ]
    },
    {
     "name": "stderr",
     "output_type": "stream",
     "text": [
      "eval_pointwise: 100%|██████████| 2/2 [00:00<00:00, 174.95it/s]\n"
     ]
    },
    {
     "name": "stdout",
     "output_type": "stream",
     "text": [
      "\t eval rmse: 0.9111\n",
      "==============================\n"
     ]
    },
    {
     "name": "stderr",
     "output_type": "stream",
     "text": [
      "train: 100%|██████████| 626/626 [00:00<00:00, 848.78it/s]\n"
     ]
    },
    {
     "name": "stdout",
     "output_type": "stream",
     "text": [
      "Epoch 5 elapsed: 0.739s\n",
      "\t \u001b[32mtrain_loss: 0.5433\u001b[0m\n"
     ]
    },
    {
     "name": "stderr",
     "output_type": "stream",
     "text": [
      "eval_pointwise: 100%|██████████| 2/2 [00:00<00:00, 208.84it/s]\n"
     ]
    },
    {
     "name": "stdout",
     "output_type": "stream",
     "text": [
      "\t eval rmse: 0.9291\n",
      "==============================\n"
     ]
    },
    {
     "name": "stderr",
     "output_type": "stream",
     "text": [
      "train: 100%|██████████| 626/626 [00:00<00:00, 890.13it/s]\n"
     ]
    },
    {
     "name": "stdout",
     "output_type": "stream",
     "text": [
      "Epoch 6 elapsed: 0.705s\n",
      "\t \u001b[32mtrain_loss: 0.4839\u001b[0m\n"
     ]
    },
    {
     "name": "stderr",
     "output_type": "stream",
     "text": [
      "eval_pointwise: 100%|██████████| 2/2 [00:00<00:00, 244.38it/s]\n"
     ]
    },
    {
     "name": "stdout",
     "output_type": "stream",
     "text": [
      "\t eval rmse: 0.9759\n",
      "==============================\n"
     ]
    },
    {
     "name": "stderr",
     "output_type": "stream",
     "text": [
      "train: 100%|██████████| 626/626 [00:00<00:00, 878.85it/s]\n"
     ]
    },
    {
     "name": "stdout",
     "output_type": "stream",
     "text": [
      "Epoch 7 elapsed: 0.714s\n",
      "\t \u001b[32mtrain_loss: 0.4354\u001b[0m\n"
     ]
    },
    {
     "name": "stderr",
     "output_type": "stream",
     "text": [
      "eval_pointwise: 100%|██████████| 2/2 [00:00<00:00, 292.86it/s]\n"
     ]
    },
    {
     "name": "stdout",
     "output_type": "stream",
     "text": [
      "\t eval rmse: 0.9672\n",
      "==============================\n"
     ]
    },
    {
     "name": "stderr",
     "output_type": "stream",
     "text": [
      "train: 100%|██████████| 626/626 [00:00<00:00, 861.07it/s]\n"
     ]
    },
    {
     "name": "stdout",
     "output_type": "stream",
     "text": [
      "Epoch 8 elapsed: 0.729s\n",
      "\t \u001b[32mtrain_loss: 0.4003\u001b[0m\n"
     ]
    },
    {
     "name": "stderr",
     "output_type": "stream",
     "text": [
      "eval_pointwise: 100%|██████████| 2/2 [00:00<00:00, 214.50it/s]\n"
     ]
    },
    {
     "name": "stdout",
     "output_type": "stream",
     "text": [
      "\t eval rmse: 0.9918\n",
      "==============================\n"
     ]
    },
    {
     "name": "stderr",
     "output_type": "stream",
     "text": [
      "train: 100%|██████████| 626/626 [00:00<00:00, 882.01it/s]\n"
     ]
    },
    {
     "name": "stdout",
     "output_type": "stream",
     "text": [
      "Epoch 9 elapsed: 0.711s\n",
      "\t \u001b[32mtrain_loss: 0.3671\u001b[0m\n"
     ]
    },
    {
     "name": "stderr",
     "output_type": "stream",
     "text": [
      "eval_pointwise: 100%|██████████| 2/2 [00:00<00:00, 196.01it/s]\n"
     ]
    },
    {
     "name": "stdout",
     "output_type": "stream",
     "text": [
      "\t eval rmse: 0.9823\n",
      "==============================\n"
     ]
    },
    {
     "name": "stderr",
     "output_type": "stream",
     "text": [
      "train: 100%|██████████| 626/626 [00:00<00:00, 862.32it/s]\n"
     ]
    },
    {
     "name": "stdout",
     "output_type": "stream",
     "text": [
      "Epoch 10 elapsed: 0.727s\n",
      "\t \u001b[32mtrain_loss: 0.3417\u001b[0m\n"
     ]
    },
    {
     "name": "stderr",
     "output_type": "stream",
     "text": [
      "eval_pointwise: 100%|██████████| 2/2 [00:00<00:00, 261.81it/s]\n"
     ]
    },
    {
     "name": "stdout",
     "output_type": "stream",
     "text": [
      "\t eval rmse: 0.9832\n",
      "==============================\n"
     ]
    },
    {
     "name": "stderr",
     "output_type": "stream",
     "text": [
      "train: 100%|██████████| 626/626 [00:00<00:00, 859.18it/s]\n"
     ]
    },
    {
     "name": "stdout",
     "output_type": "stream",
     "text": [
      "Epoch 11 elapsed: 0.730s\n",
      "\t \u001b[32mtrain_loss: 0.3256\u001b[0m\n"
     ]
    },
    {
     "name": "stderr",
     "output_type": "stream",
     "text": [
      "eval_pointwise: 100%|██████████| 2/2 [00:00<00:00, 256.59it/s]\n"
     ]
    },
    {
     "name": "stdout",
     "output_type": "stream",
     "text": [
      "\t eval rmse: 1.0357\n",
      "==============================\n"
     ]
    },
    {
     "name": "stderr",
     "output_type": "stream",
     "text": [
      "train: 100%|██████████| 626/626 [00:00<00:00, 867.22it/s]\n"
     ]
    },
    {
     "name": "stdout",
     "output_type": "stream",
     "text": [
      "Epoch 12 elapsed: 0.723s\n",
      "\t \u001b[32mtrain_loss: 0.3088\u001b[0m\n"
     ]
    },
    {
     "name": "stderr",
     "output_type": "stream",
     "text": [
      "eval_pointwise: 100%|██████████| 2/2 [00:00<00:00, 325.90it/s]\n"
     ]
    },
    {
     "name": "stdout",
     "output_type": "stream",
     "text": [
      "\t eval rmse: 1.0067\n",
      "==============================\n"
     ]
    },
    {
     "name": "stderr",
     "output_type": "stream",
     "text": [
      "train: 100%|██████████| 626/626 [00:00<00:00, 860.44it/s]\n"
     ]
    },
    {
     "name": "stdout",
     "output_type": "stream",
     "text": [
      "Epoch 13 elapsed: 0.729s\n",
      "\t \u001b[32mtrain_loss: 0.2938\u001b[0m\n"
     ]
    },
    {
     "name": "stderr",
     "output_type": "stream",
     "text": [
      "eval_pointwise: 100%|██████████| 2/2 [00:00<00:00, 274.73it/s]\n"
     ]
    },
    {
     "name": "stdout",
     "output_type": "stream",
     "text": [
      "\t eval rmse: 1.0271\n",
      "==============================\n"
     ]
    },
    {
     "name": "stderr",
     "output_type": "stream",
     "text": [
      "train: 100%|██████████| 626/626 [00:00<00:00, 847.43it/s]\n"
     ]
    },
    {
     "name": "stdout",
     "output_type": "stream",
     "text": [
      "Epoch 14 elapsed: 0.740s\n",
      "\t \u001b[32mtrain_loss: 0.2819\u001b[0m\n"
     ]
    },
    {
     "name": "stderr",
     "output_type": "stream",
     "text": [
      "eval_pointwise: 100%|██████████| 2/2 [00:00<00:00, 308.23it/s]\n"
     ]
    },
    {
     "name": "stdout",
     "output_type": "stream",
     "text": [
      "\t eval rmse: 1.0095\n",
      "==============================\n"
     ]
    },
    {
     "name": "stderr",
     "output_type": "stream",
     "text": [
      "train: 100%|██████████| 626/626 [00:00<00:00, 872.40it/s]\n"
     ]
    },
    {
     "name": "stdout",
     "output_type": "stream",
     "text": [
      "Epoch 15 elapsed: 0.719s\n",
      "\t \u001b[32mtrain_loss: 0.271\u001b[0m\n"
     ]
    },
    {
     "name": "stderr",
     "output_type": "stream",
     "text": [
      "eval_pointwise: 100%|██████████| 2/2 [00:00<00:00, 311.59it/s]\n"
     ]
    },
    {
     "name": "stdout",
     "output_type": "stream",
     "text": [
      "\t eval rmse: 1.0379\n",
      "==============================\n"
     ]
    },
    {
     "name": "stderr",
     "output_type": "stream",
     "text": [
      "train: 100%|██████████| 626/626 [00:00<00:00, 871.18it/s]\n"
     ]
    },
    {
     "name": "stdout",
     "output_type": "stream",
     "text": [
      "Epoch 16 elapsed: 0.720s\n",
      "\t \u001b[32mtrain_loss: 0.2625\u001b[0m\n"
     ]
    },
    {
     "name": "stderr",
     "output_type": "stream",
     "text": [
      "eval_pointwise: 100%|██████████| 2/2 [00:00<00:00, 324.12it/s]\n"
     ]
    },
    {
     "name": "stdout",
     "output_type": "stream",
     "text": [
      "\t eval rmse: 1.0247\n",
      "==============================\n"
     ]
    },
    {
     "name": "stderr",
     "output_type": "stream",
     "text": [
      "train: 100%|██████████| 626/626 [00:00<00:00, 861.68it/s]\n"
     ]
    },
    {
     "name": "stdout",
     "output_type": "stream",
     "text": [
      "Epoch 17 elapsed: 0.728s\n",
      "\t \u001b[32mtrain_loss: 0.2537\u001b[0m\n"
     ]
    },
    {
     "name": "stderr",
     "output_type": "stream",
     "text": [
      "eval_pointwise: 100%|██████████| 2/2 [00:00<00:00, 306.11it/s]\n"
     ]
    },
    {
     "name": "stdout",
     "output_type": "stream",
     "text": [
      "\t eval rmse: 1.0242\n",
      "==============================\n"
     ]
    },
    {
     "name": "stderr",
     "output_type": "stream",
     "text": [
      "train: 100%|██████████| 626/626 [00:00<00:00, 841.70it/s]\n"
     ]
    },
    {
     "name": "stdout",
     "output_type": "stream",
     "text": [
      "Epoch 18 elapsed: 0.746s\n",
      "\t \u001b[32mtrain_loss: 0.2479\u001b[0m\n"
     ]
    },
    {
     "name": "stderr",
     "output_type": "stream",
     "text": [
      "eval_pointwise: 100%|██████████| 2/2 [00:00<00:00, 187.89it/s]\n"
     ]
    },
    {
     "name": "stdout",
     "output_type": "stream",
     "text": [
      "\t eval rmse: 1.0298\n",
      "==============================\n"
     ]
    },
    {
     "name": "stderr",
     "output_type": "stream",
     "text": [
      "train: 100%|██████████| 626/626 [00:00<00:00, 852.04it/s]\n"
     ]
    },
    {
     "name": "stdout",
     "output_type": "stream",
     "text": [
      "Epoch 19 elapsed: 0.736s\n",
      "\t \u001b[32mtrain_loss: 0.2429\u001b[0m\n"
     ]
    },
    {
     "name": "stderr",
     "output_type": "stream",
     "text": [
      "eval_pointwise: 100%|██████████| 2/2 [00:00<00:00, 327.90it/s]\n"
     ]
    },
    {
     "name": "stdout",
     "output_type": "stream",
     "text": [
      "\t eval rmse: 1.0472\n",
      "==============================\n"
     ]
    },
    {
     "name": "stderr",
     "output_type": "stream",
     "text": [
      "train: 100%|██████████| 626/626 [00:00<00:00, 884.71it/s]\n"
     ]
    },
    {
     "name": "stdout",
     "output_type": "stream",
     "text": [
      "Epoch 20 elapsed: 0.709s\n",
      "\t \u001b[32mtrain_loss: 0.2365\u001b[0m\n"
     ]
    },
    {
     "name": "stderr",
     "output_type": "stream",
     "text": [
      "eval_pointwise: 100%|██████████| 2/2 [00:00<00:00, 375.41it/s]"
     ]
    },
    {
     "name": "stdout",
     "output_type": "stream",
     "text": [
      "\t eval rmse: 1.0330\n",
      "==============================\n"
     ]
    },
    {
     "name": "stderr",
     "output_type": "stream",
     "text": [
      "\n"
     ]
    }
   ],
   "source": [
    "# Train it\n",
    "\n",
    "ncf.fit(\n",
    "    training_set,\n",
    "    neg_sampling=False, #False for explicit ratings, true for implicit, positive-only data\n",
    "    verbose=2, # Print evaluation metrics\n",
    "    eval_data=evaluation_set,\n",
    "    metrics=[\"loss\"],\n",
    ")"
   ]
  },
  {
   "cell_type": "code",
   "execution_count": 8,
   "id": "85f0422c",
   "metadata": {},
   "outputs": [
    {
     "name": "stderr",
     "output_type": "stream",
     "text": [
      "eval_pointwise: 100%|██████████| 2/2 [00:00<00:00, 315.66it/s]\n"
     ]
    },
    {
     "data": {
      "text/plain": [
       "{'loss': 1.0307156}"
      ]
     },
     "execution_count": 8,
     "metadata": {},
     "output_type": "execute_result"
    }
   ],
   "source": [
    "# Test it\n",
    "\n",
    "evaluate(\n",
    "    model=ncf,\n",
    "    data=testing_set,\n",
    "    neg_sampling=False,\n",
    "    metrics=[\"loss\"], #for implicit, might use precision or recall\n",
    ")"
   ]
  },
  {
   "cell_type": "code",
   "execution_count": 10,
   "id": "9595b39f",
   "metadata": {},
   "outputs": [
    {
     "name": "stdout",
     "output_type": "stream",
     "text": [
      "2.5 30    Dangerous Minds (1995)\n",
      "Name: Title, dtype: object\n",
      "3.0 833    Dumbo (1941)\n",
      "Name: Title, dtype: object\n",
      "3.0 859    Sleepers (1996)\n",
      "Name: Title, dtype: object\n",
      "2.0 906    Escape from New York (1981)\n",
      "Name: Title, dtype: object\n",
      "4.0 931    Cinema Paradiso (Nuovo cinema Paradiso) (1989)\n",
      "Name: Title, dtype: object\n",
      "2.0 1017    Deer Hunter, The (1978)\n",
      "Name: Title, dtype: object\n",
      "2.0 1041    Ben-Hur (1959)\n",
      "Name: Title, dtype: object\n",
      "2.0 1047    Gandhi (1982)\n",
      "Name: Title, dtype: object\n",
      "3.5 1083    Dracula (Bram Stoker's Dracula) (1992)\n",
      "Name: Title, dtype: object\n",
      "2.0 1087    Cape Fear (1991)\n",
      "Name: Title, dtype: object\n",
      "2.5 1111    Star Trek: The Motion Picture (1979)\n",
      "Name: Title, dtype: object\n",
      "1.0 1140    Beavis and Butt-Head Do America (1996)\n",
      "Name: Title, dtype: object\n",
      "4.0 1515    French Connection, The (1971)\n",
      "Name: Title, dtype: object\n",
      "4.0 1665    Tron (1982)\n",
      "Name: Title, dtype: object\n",
      "3.0 1708    Gods Must Be Crazy, The (1980)\n",
      "Name: Title, dtype: object\n",
      "2.0 1743    Willow (1988)\n",
      "Name: Title, dtype: object\n",
      "2.0 1815    Antz (1998)\n",
      "Name: Title, dtype: object\n",
      "2.5 1962    Fly, The (1986)\n",
      "Name: Title, dtype: object\n",
      "1.0 2380    Time Bandits (1981)\n",
      "Name: Title, dtype: object\n",
      "3.0 2925    Blazing Saddles (1974)\n",
      "Name: Title, dtype: object\n"
     ]
    }
   ],
   "source": [
    "# Print out every movie user 1 rated\n",
    "filtered_rows = ratings[ratings.user == 1]\n",
    "\n",
    "for index, row in filtered_rows.iterrows():\n",
    "    rating = row['label']\n",
    "    movie = movies[movies.movieID == row['item']]\n",
    "    movieTitle = movie['Title']\n",
    "    print(rating, movieTitle)"
   ]
  },
  {
   "cell_type": "code",
   "execution_count": 11,
   "id": "dc40dae0",
   "metadata": {},
   "outputs": [
    {
     "data": {
      "text/plain": [
       "array([2.6464853], dtype=float32)"
      ]
     },
     "execution_count": 11,
     "metadata": {},
     "output_type": "execute_result"
    }
   ],
   "source": [
    "# Predict rating of user 1 (who seems to like artsy dramas) of movie 1 (Toy Story)\n",
    "ncf.predict(user=1, item=1)"
   ]
  },
  {
   "cell_type": "code",
   "execution_count": 12,
   "id": "2bebb5e1",
   "metadata": {},
   "outputs": [
    {
     "name": "stdout",
     "output_type": "stream",
     "text": [
      "{1: array([  3677,   5791,    663,    319,   2946,   1429,   3929,   2159,\n",
      "         2427, 106918])}\n"
     ]
    }
   ],
   "source": [
    "# recommend 10 items for user 1\n",
    "recs = ncf.recommend_user(user=1, n_rec=10)\n",
    "print (recs)"
   ]
  },
  {
   "cell_type": "code",
   "execution_count": 13,
   "id": "3937bb64",
   "metadata": {},
   "outputs": [
    {
     "name": "stdout",
     "output_type": "stream",
     "text": [
      "2931    Baraka (1992)\n",
      "Name: Title, dtype: object\n",
      "4313    Frida (2002)\n",
      "Name: Title, dtype: object\n",
      "569    Kids in the Hall: Brain Candy (1996)\n",
      "Name: Title, dtype: object\n",
      "285    Shallow Grave (1994)\n",
      "Name: Title, dtype: object\n",
      "2365    Help! (1965)\n",
      "Name: Title, dtype: object\n",
      "1159    First Strike (Police Story 4: First Strike) (G...\n",
      "Name: Title, dtype: object\n",
      "3140    Bank Dick, The (1940)\n",
      "Name: Title, dtype: object\n",
      "1714    Henry: Portrait of a Serial Killer (1986)\n",
      "Name: Title, dtype: object\n",
      "1936    Thin Red Line, The (1998)\n",
      "Name: Title, dtype: object\n",
      "8469    Secret Life of Walter Mitty, The (2013)\n",
      "Name: Title, dtype: object\n"
     ]
    }
   ],
   "source": [
    "# Print what these are\n",
    "myRecs = recs[1]\n",
    "for rec in myRecs:\n",
    "    print(movies[movies.movieID == rec].Title)"
   ]
  },
  {
   "cell_type": "code",
   "execution_count": null,
   "id": "026a8569",
   "metadata": {},
   "outputs": [],
   "source": []
  }
 ],
 "metadata": {
  "kernelspec": {
   "display_name": "Python 3",
   "language": "python",
   "name": "python3"
  },
  "language_info": {
   "codemirror_mode": {
    "name": "ipython",
    "version": 3
   },
   "file_extension": ".py",
   "mimetype": "text/x-python",
   "name": "python",
   "nbconvert_exporter": "python",
   "pygments_lexer": "ipython3",
   "version": "3.6.13"
  }
 },
 "nbformat": 4,
 "nbformat_minor": 5
}
